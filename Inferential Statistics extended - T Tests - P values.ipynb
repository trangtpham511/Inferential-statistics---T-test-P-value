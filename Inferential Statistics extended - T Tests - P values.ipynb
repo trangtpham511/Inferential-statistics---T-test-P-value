{
 "cells": [
  {
   "cell_type": "markdown",
   "metadata": {
    "id": "GmSXk-_pjOy6"
   },
   "source": [
    "# Lesson 1"
   ]
  },
  {
   "cell_type": "markdown",
   "metadata": {
    "id": "xba0Xo-Yr5IR"
   },
   "source": [
    "## Two sided test"
   ]
  },
  {
   "cell_type": "code",
   "execution_count": null,
   "metadata": {
    "id": "TZHuQCC1jr5W"
   },
   "outputs": [],
   "source": [
    "import math"
   ]
  },
  {
   "cell_type": "markdown",
   "metadata": {
    "id": "X_2w14Muj0XC"
   },
   "source": [
    "Let's see how to compute the statistic and the critical value for the statistic."
   ]
  },
  {
   "cell_type": "code",
   "execution_count": null,
   "metadata": {
    "colab": {
     "base_uri": "https://localhost:8080/"
    },
    "id": "dELp6YlnOquE",
    "outputId": "bb4d3d4c-c9a2-4146-dbf2-f23d6efac9a9"
   },
   "outputs": [
    {
     "name": "stdout",
     "output_type": "stream",
     "text": [
      "Statistic is:  -1.750000000000001\n"
     ]
    }
   ],
   "source": [
    "sample_mean = 80.94\n",
    "pop_mean = 85 \n",
    "pop_std = 11.6 # We are given the population std -> Z-score and Z-table\n",
    "n = 25\n",
    "statistic = (sample_mean - pop_mean)/(pop_std/math.sqrt(n))\n",
    "print(\"Statistic is: \", statistic)"
   ]
  },
  {
   "cell_type": "markdown",
   "metadata": {
    "id": "SQRhQHIYlCyV"
   },
   "source": [
    "We want to asses if the sample mean is significantly different from the population mean. It can be higher or lower. Therefore, $\\bar{x}-\\mu$ can be positive or negative."
   ]
  },
  {
   "cell_type": "markdown",
   "metadata": {
    "id": "faQ2lnKQkOkW"
   },
   "source": [
    "If we take a 95% confidence interval, the significance level will be: 1 - .95 = 0.05\n",
    "\n",
    "We need to go to the table of normal distribution and find out what is the critical value of the statistic in order to have an area of 0.95.\n",
    "\n",
    "As the normal distribution is symmetrical and the total area adds 1, the half of the area will be 0.5.\n",
    "\n",
    "We know that our significance level $\\alpha$ is 0.05. As we're dealing with a **two sided test** (the difference between our sample mean and the population mean can be positive or negative), we divide this by 2 and we get: 0.025. \n",
    "\n",
    "Then half of the area minus this amount will tell us how much area is left in one side = 0.5 - 0.025 = 0.475. Now we only need to go to the Z-table and to look for this value. Once tihs value is found, we need to look at the value to the lef and in the same row. To this value we will add the value in the header of the intersection. = -1.96 "
   ]
  },
  {
   "cell_type": "markdown",
   "metadata": {
    "id": "Jh7_7tjqrb-c"
   },
   "source": [
    "Now we can compare the absolute value of our statistic value = 1.75 and the critical value. As our value is smaller than the critical value we **accept  H0** "
   ]
  },
  {
   "cell_type": "markdown",
   "metadata": {
    "id": "6JS2umYCr0gT"
   },
   "source": [
    "# Lesson 2"
   ]
  },
  {
   "cell_type": "markdown",
   "metadata": {
    "id": "LCmcx8lgr9CF"
   },
   "source": [
    "## One sided test"
   ]
  },
  {
   "cell_type": "markdown",
   "metadata": {
    "id": "A_o7JhZpr2fY"
   },
   "source": [
    "Now we're going to asses if the sample mean is significantly higher than the population mean. Therefore, the difference $\\bar{x}-\\mu$ is positive. \n",
    "\n"
   ]
  },
  {
   "cell_type": "markdown",
   "metadata": {
    "id": "lvO1vc2SsS4c"
   },
   "source": [
    "Now we don't need to divide by 2 because the difference can only be positive. \n",
    "\n",
    "Out statistic hasn't change, what it has changed is the restriction."
   ]
  },
  {
   "cell_type": "code",
   "execution_count": null,
   "metadata": {
    "colab": {
     "base_uri": "https://localhost:8080/"
    },
    "id": "eDhtFXPjsjGU",
    "outputId": "f2247a8f-ac28-4967-ecd6-a518c2df9a30"
   },
   "outputs": [
    {
     "name": "stdout",
     "output_type": "stream",
     "text": [
      "Statistic is:  -1.750000000000001\n"
     ]
    }
   ],
   "source": [
    "sample_mean = 80.94\n",
    "pop_mean = 85\n",
    "pop_std = 11.6\n",
    "n = 25\n",
    "statistic = (sample_mean - pop_mean)/(pop_std/math.sqrt(n))\n",
    "print(\"Statistic is: \", statistic)"
   ]
  },
  {
   "cell_type": "markdown",
   "metadata": {
    "id": "gYVcIS9psknd"
   },
   "source": [
    "Let's compute the new area:\n",
    "\n",
    "* Confidence level = 95%\n",
    "* Significance level = 0.05\n",
    "* Area = 0.5 - 0.05 = 0.45\n",
    "\n",
    "We go to the table and we find the critical Z-score value:\n",
    "\n",
    "aprox = -1.64\n",
    "\n",
    "If we take absolute values, our statistic is higher than the critical value. Therefore we're in the bad reagion -> We **reject the Ho** "
   ]
  },
  {
   "cell_type": "markdown",
   "metadata": {
    "id": "fY2B6jzgvS6X"
   },
   "source": [
    "## Using the p-value"
   ]
  },
  {
   "cell_type": "markdown",
   "metadata": {
    "id": "fomEPO3ovWqI"
   },
   "source": [
    "Another way to see the same is to wonder, how much area will be under the curve given our statistic. \n",
    "\n",
    "To know that, we need to go to the table and find out the area for our statistic -1.75, which is = 0.04006. Look fo the intersection of -1.7 and 0.05 -> -1.75. \n",
    "\n",
    "0.04006 es samller than the 0.05 (we're on the bad side) -> We **reject H0**"
   ]
  },
  {
   "cell_type": "markdown",
   "metadata": {
    "id": "muJtzBA9xBSm"
   },
   "source": [
    "# Lesson 4"
   ]
  },
  {
   "cell_type": "markdown",
   "metadata": {
    "id": "KlxiUQ43xPVQ"
   },
   "source": [
    "When comparing **two samples of different populations** the statistic to compute is:\n",
    "\n",
    "$$t = \\frac{(\\bar{x_{1}}-\\bar{x_{2}})}{s_{p}\\sqrt{\\frac{1}{n_{1}}+\\frac{1}{n_{2}}}}$$\n",
    "\n",
    "with:\n",
    "\n",
    "$$s_{p}=\\sqrt{\\frac{(n_{1}-1)s_{1}^{2}+(n_{2}-2)s_{2}^{2}}{(n_{1}+n_{2}-2)}}$$"
   ]
  },
  {
   "cell_type": "markdown",
   "metadata": {
    "id": "eX73GJtE3HVg"
   },
   "source": [
    "Be aware that again, the difference between the sample means, can be either positive or negative. Therefore, we are going to conduct a **two sided test** but with a different statistic."
   ]
  },
  {
   "cell_type": "code",
   "execution_count": null,
   "metadata": {
    "colab": {
     "base_uri": "https://localhost:8080/"
    },
    "id": "_5KnnDZ9xCbT",
    "outputId": "6743ef1b-e217-47c6-f83e-9c9d45e3359f"
   },
   "outputs": [
    {
     "name": "stdout",
     "output_type": "stream",
     "text": [
      "T Statistic is:  3.4101131776909535\n"
     ]
    }
   ],
   "source": [
    "sample_mean1 = 105.5\n",
    "sample_std1 = 20.1\n",
    "n1 = 34\n",
    "sample_mean2 = 90.9\n",
    "sample_std2 = 12.2\n",
    "n2 = 29\n",
    "\n",
    "pooled_sample_std = math.sqrt(((n1-1)*sample_std1**2 + (n2-1)*sample_std2**2)/(n1+n2-2))\n",
    "statistic = (sample_mean1-sample_mean2)/(pooled_sample_std*math.sqrt((1/n1)+(1/n2)))\n",
    "print(\"T Statistic is: \", statistic)"
   ]
  },
  {
   "cell_type": "markdown",
   "metadata": {
    "id": "QpibC4AQzHot"
   },
   "source": [
    "Now we need to use the table corresponding to the t-student distribution instead off the normal distribution[look here](https://www.itl.nist.gov/div898/handbook/eda/section3/eda3672.htm)\n",
    "\n",
    "This table has on the left most column, the degrees of freedom (34 + 29 - 2) = 61. On the header is the confidence level. Then in our case the intersection between 61 and (0.95/2 = .975) is = 2.000\n",
    "\n",
    "AS our statistic is bigger than the critical value we **reject Ho**"
   ]
  },
  {
   "cell_type": "code",
   "execution_count": null,
   "metadata": {
    "colab": {
     "base_uri": "https://localhost:8080/"
    },
    "id": "HVPzvvur1vI9",
    "outputId": "afbc7ccc-1495-4ced-bb19-707aa9e9d247"
   },
   "outputs": [
    {
     "name": "stdout",
     "output_type": "stream",
     "text": [
      "P value is:  0.0005783712704484634\n",
      "Critical Value of z is:  -1.9996235841149783\n"
     ]
    }
   ],
   "source": [
    "# Using python to find the p value and critical value\n",
    "\n",
    "from scipy.stats import t\n",
    "\n",
    "print(\"P value is: \", 1- t.cdf(statistic,n1+n2-2))\n",
    "print(\"Critical Value of z is: \", t.ppf(0.025, n1+n2-2)) #alpha is 0.05"
   ]
  },
  {
   "cell_type": "markdown",
   "metadata": {
    "id": "UFjp0ppC47p5"
   },
   "source": [
    "If you look at the p-value will "
   ]
  }
 ],
 "metadata": {
  "colab": {
   "name": "Afternoon.ipynb",
   "provenance": [],
   "toc_visible": true
  },
  "kernelspec": {
   "display_name": "Python 3",
   "language": "python",
   "name": "python3"
  },
  "language_info": {
   "codemirror_mode": {
    "name": "ipython",
    "version": 3
   },
   "file_extension": ".py",
   "mimetype": "text/x-python",
   "name": "python",
   "nbconvert_exporter": "python",
   "pygments_lexer": "ipython3",
   "version": "3.8.5"
  }
 },
 "nbformat": 4,
 "nbformat_minor": 1
}
